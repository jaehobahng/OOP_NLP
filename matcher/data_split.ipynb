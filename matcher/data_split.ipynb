{
 "cells": [
  {
   "cell_type": "code",
   "execution_count": 1,
   "metadata": {},
   "outputs": [],
   "source": [
    "import pandas as pd\n",
    "from sklearn.model_selection import train_test_split\n",
    "\n",
    "# Load the TSV file\n",
    "data = pd.read_csv('../data/names.tsv', delimiter='\\t')\n",
    "\n",
    "# Find unique values in column A\n",
    "unique_values = data['personLabel'].unique()\n",
    "\n",
    "train_data = []  # Initialize a list for training data\n",
    "test_data = []   # Initialize a list for testing data\n",
    "\n",
    "# Split the data for each unique value\n",
    "for value in unique_values:\n",
    "    # Filter rows for each unique value\n",
    "    subset = data[data['personLabel'] == value]\n",
    "\n",
    "    if len(subset) < 2:\n",
    "        train_data.append(subset)\n",
    "    else:    \n",
    "        # Split the subset data into 80:20 ratio for training and testing\n",
    "        train_subset, test_subset = train_test_split(subset, test_size=0.2, random_state=42)\n",
    "        \n",
    "        # Append the split data to the overall training and testing sets\n",
    "        train_data.append(train_subset)\n",
    "        test_data.append(test_subset)\n",
    "\n",
    "# Concatenate the list of dataframes into a single dataframe for train and test sets\n",
    "train_data = pd.concat(train_data)\n",
    "test_data = pd.concat(test_data)\n",
    "\n",
    "test_data.to_csv('../data/names-test.tsv',sep='\\t',index=False)\n",
    "train_data.to_csv('../data/names-train.tsv',sep='\\t',index=False)"
   ]
  }
 ],
 "metadata": {
  "kernelspec": {
   "display_name": "DSAN5000",
   "language": "python",
   "name": "python3"
  },
  "language_info": {
   "codemirror_mode": {
    "name": "ipython",
    "version": 3
   },
   "file_extension": ".py",
   "mimetype": "text/x-python",
   "name": "python",
   "nbconvert_exporter": "python",
   "pygments_lexer": "ipython3",
   "version": "3.11.5"
  }
 },
 "nbformat": 4,
 "nbformat_minor": 2
}
