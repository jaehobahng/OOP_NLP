{
 "cells": [
  {
   "cell_type": "code",
   "execution_count": 7,
   "metadata": {},
   "outputs": [],
   "source": [
    "from matcher.utils.parse_tsv import TsvIterator\n",
    "from matcher.eval.eval import evaluate\n",
    "import multiprocessing"
   ]
  },
  {
   "cell_type": "code",
   "execution_count": 8,
   "metadata": {},
   "outputs": [],
   "source": [
    "def process_comparison(comparison):\n",
    "        pass"
   ]
  },
  {
   "cell_type": "code",
   "execution_count": 9,
   "metadata": {},
   "outputs": [],
   "source": [
    "# num_processes = multiprocessing.cpu_count()\n",
    "pool = multiprocessing.Pool(processes=4)"
   ]
  },
  {
   "cell_type": "code",
   "execution_count": 10,
   "metadata": {},
   "outputs": [],
   "source": [
    "tsv_iterator = TsvIterator('../../data/names.tsv', '../../data/output_Exact.tsv', 'Exact', 0.5)"
   ]
  },
  {
   "cell_type": "code",
   "execution_count": 11,
   "metadata": {},
   "outputs": [],
   "source": [
    "pool.map(process_comparison, tsv_iterator) "
   ]
  },
  {
   "cell_type": "code",
   "execution_count": 5,
   "metadata": {},
   "outputs": [],
   "source": [
    "for i in tsv_iterator:\n",
    "    pass"
   ]
  },
  {
   "cell_type": "code",
   "execution_count": null,
   "metadata": {},
   "outputs": [],
   "source": []
  },
  {
   "cell_type": "code",
   "execution_count": 3,
   "metadata": {},
   "outputs": [],
   "source": [
    "import multiprocessing\n",
    "\n",
    "def process_chunk(start, end):\n",
    "    result = 0\n",
    "    for i in range(start, end):\n",
    "        result += i  # Replace this with your actual loop logic\n",
    "    return result\n",
    "\n",
    "if __name__ == '__main__':\n",
    "    # num_processes = multiprocessing.cpu_count()\n",
    "    pool = multiprocessing.Pool(processes=4)\n",
    "\n",
    "    num_iterations = 1000\n",
    "    chunk_size = num_iterations // 4\n",
    "    chunks = [(i * chunk_size, (i + 1) * chunk_size) for i in range(4)]\n",
    "\n",
    "    results = pool.map(process_chunk, chunks)\n",
    "\n",
    "    pool.close()\n",
    "    pool.join()\n",
    "\n",
    "    total_result = sum(results)\n",
    "    print(f'Total result: {total_result}')\n"
   ]
  },
  {
   "cell_type": "code",
   "execution_count": null,
   "metadata": {},
   "outputs": [],
   "source": []
  },
  {
   "cell_type": "code",
   "execution_count": null,
   "metadata": {},
   "outputs": [],
   "source": []
  },
  {
   "cell_type": "code",
   "execution_count": null,
   "metadata": {},
   "outputs": [],
   "source": []
  },
  {
   "cell_type": "code",
   "execution_count": null,
   "metadata": {},
   "outputs": [],
   "source": []
  },
  {
   "cell_type": "code",
   "execution_count": null,
   "metadata": {},
   "outputs": [],
   "source": []
  }
 ],
 "metadata": {
  "kernelspec": {
   "display_name": "DSAN5400",
   "language": "python",
   "name": "python3"
  },
  "language_info": {
   "codemirror_mode": {
    "name": "ipython",
    "version": 3
   },
   "file_extension": ".py",
   "mimetype": "text/x-python",
   "name": "python",
   "nbconvert_exporter": "python",
   "pygments_lexer": "ipython3",
   "version": "3.11.4"
  }
 },
 "nbformat": 4,
 "nbformat_minor": 2
}
