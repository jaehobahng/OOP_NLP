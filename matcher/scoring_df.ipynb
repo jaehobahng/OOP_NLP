{
 "cells": [
  {
   "cell_type": "code",
   "execution_count": 3,
   "metadata": {},
   "outputs": [],
   "source": [
    "from matcher.eval.eval import evaluate\n",
    "import pandas as pd\n",
    "\n",
    "df_Exact = pd.read_csv('../data/output_Exact.tsv',delimiter='\\t',header=None, names=['PersonLabel','AliasLabel','Prediction','Score'])\n",
    "df_Jaccard = pd.read_csv('../data/output_Jaccard.tsv',delimiter='\\t',header=None, names=['PersonLabel','AliasLabel','Prediction','Score'])\n",
    "df_Leven = pd.read_csv('../data/output_Leven.tsv',delimiter='\\t',header=None, names=['PersonLabel','AliasLabel','Prediction','Score'])\n",
    "df_tfidf = pd.read_csv('../data/output_tfidf.tsv',delimiter='\\t',header=None, names=['PersonLabel','AliasLabel','Prediction','Score'])\n",
    "df_Bonus = pd.read_csv('../data/output_Bonus.tsv',delimiter='\\t',header=None, names=['PersonLabel','AliasLabel','Prediction','Score'])\n",
    "\n",
    "\n",
    "# Create an empty DataFrame with column names\n",
    "method = ['Exact','Jaccard','Leven','Bonus']\n",
    "column_names = ['Method', 'Precision', 'Recall','F1']\n",
    "\n",
    "results_df = pd.DataFrame(columns=column_names)\n",
    "\n",
    "for i in method:\n",
    "    results = []\n",
    "    a = eval(f\"evaluate(df_{i}['Prediction'], 'precision')\")\n",
    "    b = eval(f\"evaluate(df_{i}['Prediction'], 'recall')\")\n",
    "    c = eval(f\"evaluate(df_{i}['Prediction'], 'f1')\")\n",
    "    results = pd.DataFrame([[i,a,b,c]],columns=column_names)\n",
    "    results_df = pd.concat([results_df, results], ignore_index=True)\n",
    "\n",
    "i = 'NearestNeighbor'\n",
    "a = evaluate(df_tfidf['Prediction'],'precision')\n",
    "b = evaluate(df_tfidf['Prediction'],'recall')\n",
    "c = evaluate(df_tfidf['Prediction'],'f1')\n",
    "results = pd.DataFrame([[i,a,b,c]],columns=column_names)\n",
    "results_df = pd.concat([results_df, results], ignore_index=True)"
   ]
  },
  {
   "cell_type": "code",
   "execution_count": 4,
   "metadata": {},
   "outputs": [
    {
     "data": {
      "text/html": [
       "<div>\n",
       "<style scoped>\n",
       "    .dataframe tbody tr th:only-of-type {\n",
       "        vertical-align: middle;\n",
       "    }\n",
       "\n",
       "    .dataframe tbody tr th {\n",
       "        vertical-align: top;\n",
       "    }\n",
       "\n",
       "    .dataframe thead th {\n",
       "        text-align: right;\n",
       "    }\n",
       "</style>\n",
       "<table border=\"1\" class=\"dataframe\">\n",
       "  <thead>\n",
       "    <tr style=\"text-align: right;\">\n",
       "      <th></th>\n",
       "      <th>Method</th>\n",
       "      <th>Precision</th>\n",
       "      <th>Recall</th>\n",
       "      <th>F1</th>\n",
       "    </tr>\n",
       "  </thead>\n",
       "  <tbody>\n",
       "    <tr>\n",
       "      <th>0</th>\n",
       "      <td>Exact</td>\n",
       "      <td>1.0</td>\n",
       "      <td>0.000222</td>\n",
       "      <td>0.000445</td>\n",
       "    </tr>\n",
       "    <tr>\n",
       "      <th>1</th>\n",
       "      <td>Jaccard</td>\n",
       "      <td>1.0</td>\n",
       "      <td>0.844237</td>\n",
       "      <td>0.915541</td>\n",
       "    </tr>\n",
       "    <tr>\n",
       "      <th>2</th>\n",
       "      <td>Leven</td>\n",
       "      <td>1.0</td>\n",
       "      <td>0.678813</td>\n",
       "      <td>0.808682</td>\n",
       "    </tr>\n",
       "    <tr>\n",
       "      <th>3</th>\n",
       "      <td>Bonus</td>\n",
       "      <td>1.0</td>\n",
       "      <td>0.721963</td>\n",
       "      <td>0.838535</td>\n",
       "    </tr>\n",
       "    <tr>\n",
       "      <th>4</th>\n",
       "      <td>NearestNeighbor</td>\n",
       "      <td>1.0</td>\n",
       "      <td>0.676826</td>\n",
       "      <td>0.807270</td>\n",
       "    </tr>\n",
       "  </tbody>\n",
       "</table>\n",
       "</div>"
      ],
      "text/plain": [
       "            Method  Precision    Recall        F1\n",
       "0            Exact        1.0  0.000222  0.000445\n",
       "1          Jaccard        1.0  0.844237  0.915541\n",
       "2            Leven        1.0  0.678813  0.808682\n",
       "3            Bonus        1.0  0.721963  0.838535\n",
       "4  NearestNeighbor        1.0  0.676826  0.807270"
      ]
     },
     "execution_count": 4,
     "metadata": {},
     "output_type": "execute_result"
    }
   ],
   "source": [
    "results_df"
   ]
  },
  {
   "cell_type": "code",
   "execution_count": null,
   "metadata": {},
   "outputs": [],
   "source": []
  }
 ],
 "metadata": {
  "kernelspec": {
   "display_name": "DSAN5000",
   "language": "python",
   "name": "python3"
  },
  "language_info": {
   "codemirror_mode": {
    "name": "ipython",
    "version": 3
   },
   "file_extension": ".py",
   "mimetype": "text/x-python",
   "name": "python",
   "nbconvert_exporter": "python",
   "pygments_lexer": "ipython3",
   "version": "3.11.5"
  }
 },
 "nbformat": 4,
 "nbformat_minor": 2
}
