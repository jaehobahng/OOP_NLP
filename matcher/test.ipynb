{
 "cells": [
  {
   "cell_type": "code",
   "execution_count": 1,
   "metadata": {},
   "outputs": [],
   "source": [
    "import Levenshtein\n",
    "\n",
    "from sklearn.feature_extraction.text import TfidfVectorizer\n",
    "from sklearn.metrics.pairwise import cosine_similarity\n",
    "\n",
    "class NameMatchScorer:\n",
    "    \"\"\"Interface for scoring putative name matches\"\"\"\n",
    "    def __init__(self, name1, name2, threshold=0.5, ngram_range=(1,4)):\n",
    "        self.name1 = name1\n",
    "        self.name2 = name2\n",
    "        self.threshold = threshold\n",
    "        self.ngram_range = ngram_range\n",
    "    def __str__(self):\n",
    "    # TODO - fill in (see our work from corpora.py for an example)\n",
    "        return f\"Cleaned Names:\\n{self.name1}\\nError Names:\\n{self.name2}\"\n",
    "    def __repr__(self):\n",
    "    # TODO - fill in (see our work from corpora.py for an example)\n",
    "        return f\"NameDataFrame(cleaned_names={self.name1}, error_names={self.name2})\"\n",
    "    def score(self, name1, name2):        \n",
    "        pass\n",
    "\n",
    "class ExactMatchScoring(NameMatchScorer):\n",
    "    def score(self):\n",
    "        if self.name1==self.name2:\n",
    "            pred = True\n",
    "        else:\n",
    "            pred = False\n",
    "        \n",
    "        if self.name1==self.name2:\n",
    "            similarity = 1\n",
    "        else:\n",
    "            similarity = 0\n",
    "        # pred = [x == y for x, y in zip(self.name1, self.name2)]\n",
    "        return pred, similarity\n",
    "    \n",
    "class Jaccard(NameMatchScorer):\n",
    "    def score(self):\n",
    "        similarity = len(set(self.name1) & set(self.name2)) / len(set(self.name1) | set(self.name2))\n",
    "        if similarity >= self.threshold:\n",
    "            pred = True\n",
    "        else:\n",
    "            pred = False\n",
    "        return pred, similarity\n",
    "\n",
    "class Leven(NameMatchScorer):\n",
    "    def score(self):\n",
    "        distance = Levenshtein.distance(self.name1,self.name2)\n",
    "        similarity = 1 - (distance / max(len(self.name1), len(self.name2)))\n",
    "        if similarity >= self.threshold:\n",
    "            pred = True\n",
    "        else:\n",
    "            pred=False\n",
    "        return pred, similarity\n",
    "\n",
    "\n",
    "class tfidf(NameMatchScorer):\n",
    "    def score(self):\n",
    "        corpus = [self.name1,self.name2]\n",
    "        if all(x > 0 for x in self.ngram_range):\n",
    "            pass\n",
    "        else:\n",
    "            raise ValueError(\"Ngrams must be greater than 0\")\n",
    "        vectorizer = TfidfVectorizer(analyzer='char', ngram_range=self.ngram_range)\n",
    "        tfidf_matrix = vectorizer.fit_transform(corpus)\n",
    "        similarity = cosine_similarity(tfidf_matrix[0], tfidf_matrix[1])[0][0]\n",
    "        \n",
    "        if similarity >= self.threshold:\n",
    "            pred = True\n",
    "        else:\n",
    "            pred = False\n",
    "        return pred, similarity\n",
    "\n",
    "\n",
    "import spacy\n",
    "class Bonus(NameMatchScorer):\n",
    "    def score(self):\n",
    "\n",
    "        # Load the spaCy model\n",
    "        nlp = spacy.load(\"en_core_web_sm\")\n",
    "\n",
    "        # Example strings\n",
    "        string1 = self.name1\n",
    "        string2 = self.name2\n",
    "\n",
    "        doc1 = nlp(string1)\n",
    "        doc2 = nlp(string2)\n",
    "\n",
    "        vec1 = doc1.vector\n",
    "        vec2 = doc2.vector\n",
    "\n",
    "        # Calculate cosine similarity manually\n",
    "        def cosine_similarity(vec1, vec2):\n",
    "            dot_product = sum(a * b for a, b in zip(vec1, vec2))\n",
    "            magnitude1 = sum(a ** 2 for a in vec1) ** 0.5\n",
    "            magnitude2 = sum(b ** 2 for b in vec2) ** 0.5\n",
    "            similarity = dot_product / (magnitude1 * magnitude2)\n",
    "            return similarity\n",
    "\n",
    "        similarity = cosine_similarity(vec1, vec2)\n",
    "\n",
    "        if similarity >= self.threshold:\n",
    "            pred = True\n",
    "        else:\n",
    "            pred = False\n",
    "        \n",
    "        return pred, similarity\n",
    "\n",
    "\n",
    "    \n"
   ]
  },
  {
   "cell_type": "code",
   "execution_count": null,
   "metadata": {},
   "outputs": [],
   "source": [
    "import spacy\n",
    "\n",
    "# Load the spaCy model\n",
    "nlp = spacy.load(\"en_core_web_sm\")\n",
    "\n",
    "# Example strings\n",
    "string1 = \"John Doe\"\n",
    "string2 = \"Jaeho Doeng\"\n",
    "\n",
    "# Process the strings\n",
    "doc1 = nlp(string1)\n",
    "doc2 = nlp(string2)\n",
    "\n",
    "# Calculate document vectors\n",
    "vec1 = doc1.vector\n",
    "vec2 = doc2.vector\n",
    "\n",
    "# Calculate cosine similarity manually\n",
    "def cosine_similarity(vec1, vec2):\n",
    "    dot_product = sum(a * b for a, b in zip(vec1, vec2))\n",
    "    magnitude1 = sum(a ** 2 for a in vec1) ** 0.5\n",
    "    magnitude2 = sum(b ** 2 for b in vec2) ** 0.5\n",
    "    similarity = dot_product / (magnitude1 * magnitude2)\n",
    "    return similarity\n",
    "\n",
    "similarity_score = cosine_similarity(vec1, vec2)\n",
    "print(\"Similarity score:\", similarity_score)\n"
   ]
  },
  {
   "cell_type": "code",
   "execution_count": null,
   "metadata": {},
   "outputs": [],
   "source": []
  },
  {
   "cell_type": "code",
   "execution_count": null,
   "metadata": {},
   "outputs": [],
   "source": []
  },
  {
   "cell_type": "code",
   "execution_count": 2,
   "metadata": {},
   "outputs": [],
   "source": [
    "\n",
    "def score(name1,name2,ngram_range=(1,4),threshold=0.5):\n",
    "    corpus = [name1,name2]\n",
    "    if all(x > 0 for x in ngram_range):\n",
    "        pass\n",
    "    else:\n",
    "        raise ValueError(\"Ngrams must be greater than 0\")\n",
    "    vectorizer = TfidfVectorizer(analyzer='char', ngram_range=ngram_range)\n",
    "    tfidf_matrix = vectorizer.fit_transform(corpus)\n",
    "    similarity = cosine_similarity(tfidf_matrix[0], tfidf_matrix[1])[0][0]\n",
    "    \n",
    "    if similarity >= threshold:\n",
    "        pred = True\n",
    "    else:\n",
    "        pred=False\n",
    "    return pred\n"
   ]
  },
  {
   "cell_type": "code",
   "execution_count": 3,
   "metadata": {},
   "outputs": [],
   "source": [
    "class tfidf(NameMatchScorer):\n",
    "    def score(self):\n",
    "        person = []\n",
    "        alias = []\n",
    "        \n",
    "        if all(x > 0 for x in self.ngram_range):\n",
    "            pass\n",
    "        else:\n",
    "            raise ValueError(\"Ngrams must be greater than 0\")\n",
    "        vectorizer = TfidfVectorizer(analyzer='char', ngram_range=self.ngram_range)\n",
    "        tfidf_matrix = vectorizer.fit_transform(corpus)\n",
    "        similarity = cosine_similarity(tfidf_matrix[0], tfidf_matrix[1])[0][0]\n",
    "        \n",
    "        if similarity >= self.threshold:\n",
    "            pred = True\n",
    "        else:\n",
    "            pred = False\n",
    "        return pred, similarity"
   ]
  },
  {
   "cell_type": "code",
   "execution_count": 4,
   "metadata": {},
   "outputs": [],
   "source": [
    "from sklearn.feature_extraction.text import TfidfVectorizer\n",
    "from sklearn.metrics.pairwise import cosine_similarity\n",
    "from sklearn.neighbors import NearestNeighbors\n",
    "import pandas as pd\n",
    "\n",
    "data = pd.read_csv('../data/names.tsv',delimiter='\\t')\n",
    "\n",
    "# Create a corpus with all alias names\n",
    "names = data.personLabel\n",
    "alias = data.aliasLabel"
   ]
  },
  {
   "cell_type": "code",
   "execution_count": 5,
   "metadata": {},
   "outputs": [
    {
     "data": {
      "text/html": [
       "<style>#sk-container-id-1 {color: black;}#sk-container-id-1 pre{padding: 0;}#sk-container-id-1 div.sk-toggleable {background-color: white;}#sk-container-id-1 label.sk-toggleable__label {cursor: pointer;display: block;width: 100%;margin-bottom: 0;padding: 0.3em;box-sizing: border-box;text-align: center;}#sk-container-id-1 label.sk-toggleable__label-arrow:before {content: \"▸\";float: left;margin-right: 0.25em;color: #696969;}#sk-container-id-1 label.sk-toggleable__label-arrow:hover:before {color: black;}#sk-container-id-1 div.sk-estimator:hover label.sk-toggleable__label-arrow:before {color: black;}#sk-container-id-1 div.sk-toggleable__content {max-height: 0;max-width: 0;overflow: hidden;text-align: left;background-color: #f0f8ff;}#sk-container-id-1 div.sk-toggleable__content pre {margin: 0.2em;color: black;border-radius: 0.25em;background-color: #f0f8ff;}#sk-container-id-1 input.sk-toggleable__control:checked~div.sk-toggleable__content {max-height: 200px;max-width: 100%;overflow: auto;}#sk-container-id-1 input.sk-toggleable__control:checked~label.sk-toggleable__label-arrow:before {content: \"▾\";}#sk-container-id-1 div.sk-estimator input.sk-toggleable__control:checked~label.sk-toggleable__label {background-color: #d4ebff;}#sk-container-id-1 div.sk-label input.sk-toggleable__control:checked~label.sk-toggleable__label {background-color: #d4ebff;}#sk-container-id-1 input.sk-hidden--visually {border: 0;clip: rect(1px 1px 1px 1px);clip: rect(1px, 1px, 1px, 1px);height: 1px;margin: -1px;overflow: hidden;padding: 0;position: absolute;width: 1px;}#sk-container-id-1 div.sk-estimator {font-family: monospace;background-color: #f0f8ff;border: 1px dotted black;border-radius: 0.25em;box-sizing: border-box;margin-bottom: 0.5em;}#sk-container-id-1 div.sk-estimator:hover {background-color: #d4ebff;}#sk-container-id-1 div.sk-parallel-item::after {content: \"\";width: 100%;border-bottom: 1px solid gray;flex-grow: 1;}#sk-container-id-1 div.sk-label:hover label.sk-toggleable__label {background-color: #d4ebff;}#sk-container-id-1 div.sk-serial::before {content: \"\";position: absolute;border-left: 1px solid gray;box-sizing: border-box;top: 0;bottom: 0;left: 50%;z-index: 0;}#sk-container-id-1 div.sk-serial {display: flex;flex-direction: column;align-items: center;background-color: white;padding-right: 0.2em;padding-left: 0.2em;position: relative;}#sk-container-id-1 div.sk-item {position: relative;z-index: 1;}#sk-container-id-1 div.sk-parallel {display: flex;align-items: stretch;justify-content: center;background-color: white;position: relative;}#sk-container-id-1 div.sk-item::before, #sk-container-id-1 div.sk-parallel-item::before {content: \"\";position: absolute;border-left: 1px solid gray;box-sizing: border-box;top: 0;bottom: 0;left: 50%;z-index: -1;}#sk-container-id-1 div.sk-parallel-item {display: flex;flex-direction: column;z-index: 1;position: relative;background-color: white;}#sk-container-id-1 div.sk-parallel-item:first-child::after {align-self: flex-end;width: 50%;}#sk-container-id-1 div.sk-parallel-item:last-child::after {align-self: flex-start;width: 50%;}#sk-container-id-1 div.sk-parallel-item:only-child::after {width: 0;}#sk-container-id-1 div.sk-dashed-wrapped {border: 1px dashed gray;margin: 0 0.4em 0.5em 0.4em;box-sizing: border-box;padding-bottom: 0.4em;background-color: white;}#sk-container-id-1 div.sk-label label {font-family: monospace;font-weight: bold;display: inline-block;line-height: 1.2em;}#sk-container-id-1 div.sk-label-container {text-align: center;}#sk-container-id-1 div.sk-container {/* jupyter's `normalize.less` sets `[hidden] { display: none; }` but bootstrap.min.css set `[hidden] { display: none !important; }` so we also need the `!important` here to be able to override the default hidden behavior on the sphinx rendered scikit-learn.org. See: https://github.com/scikit-learn/scikit-learn/issues/21755 */display: inline-block !important;position: relative;}#sk-container-id-1 div.sk-text-repr-fallback {display: none;}</style><div id=\"sk-container-id-1\" class=\"sk-top-container\"><div class=\"sk-text-repr-fallback\"><pre>NearestNeighbors(metric=&#x27;cosine&#x27;, n_neighbors=4)</pre><b>In a Jupyter environment, please rerun this cell to show the HTML representation or trust the notebook. <br />On GitHub, the HTML representation is unable to render, please try loading this page with nbviewer.org.</b></div><div class=\"sk-container\" hidden><div class=\"sk-item\"><div class=\"sk-estimator sk-toggleable\"><input class=\"sk-toggleable__control sk-hidden--visually\" id=\"sk-estimator-id-1\" type=\"checkbox\" checked><label for=\"sk-estimator-id-1\" class=\"sk-toggleable__label sk-toggleable__label-arrow\">NearestNeighbors</label><div class=\"sk-toggleable__content\"><pre>NearestNeighbors(metric=&#x27;cosine&#x27;, n_neighbors=4)</pre></div></div></div></div></div>"
      ],
      "text/plain": [
       "NearestNeighbors(metric='cosine', n_neighbors=4)"
      ]
     },
     "execution_count": 5,
     "metadata": {},
     "output_type": "execute_result"
    }
   ],
   "source": [
    "from sklearn.feature_extraction.text import TfidfVectorizer\n",
    "from sklearn.metrics.pairwise import cosine_similarity\n",
    "from sklearn.neighbors import NearestNeighbors\n",
    "import pandas as pd\n",
    "from scipy import sparse\n",
    "\n",
    "train_df = pd.read_csv('../data/names-train.tsv',delimiter='\\t')\n",
    "\n",
    "# Create a corpus with all alias names\n",
    "names = train_df.personLabel.tolist()\n",
    "alias = train_df.aliasLabel.tolist()\n",
    "\n",
    "# Create a TF-IDF vectorizer\n",
    "vectorizer = TfidfVectorizer(analyzer='char', ngram_range=(1,4))\n",
    "\n",
    "# Apply TF-IDF vectorization to the corpus\n",
    "tfidf_matrix = vectorizer.fit_transform(alias)\n",
    "\n",
    "tfidf_matrix_sparse = sparse.csr_matrix(tfidf_matrix)\n",
    "\n",
    "nn_model = NearestNeighbors(n_neighbors=4, metric='cosine')\n",
    "\n",
    "nn_model.fit(tfidf_matrix_sparse)"
   ]
  },
  {
   "cell_type": "code",
   "execution_count": null,
   "metadata": {},
   "outputs": [],
   "source": []
  },
  {
   "cell_type": "code",
   "execution_count": 6,
   "metadata": {},
   "outputs": [],
   "source": [
    "from statistics import mode\n",
    "test_df = pd.read_csv('../data/names-test.tsv',delimiter='\\t')\n",
    "\n",
    "# Create a corpus with all alias names\n",
    "names_test = test_df.personLabel.tolist()\n",
    "alias_test = test_df.aliasLabel.tolist()\n",
    "predictions = []\n",
    "\n",
    "for i in alias_test:\n",
    "    query_vector = vectorizer.transform([i]).toarray()\n",
    "    distances, indices = nn_model.kneighbors(query_vector)\n",
    "    result = mode([names[i] for i in indices[0]])\n",
    "    predictions.append(result)\n",
    "    \n",
    "results = [x == y for x, y in zip(predictions, names_test)]\n",
    "test_df['Predictions'] = results\n",
    "test_df.to_csv('../data/output_tfidf.tsv',sep='\\t',index=False,header=False)"
   ]
  },
  {
   "cell_type": "code",
   "execution_count": 7,
   "metadata": {},
   "outputs": [
    {
     "data": {
      "text/html": [
       "<div>\n",
       "<style scoped>\n",
       "    .dataframe tbody tr th:only-of-type {\n",
       "        vertical-align: middle;\n",
       "    }\n",
       "\n",
       "    .dataframe tbody tr th {\n",
       "        vertical-align: top;\n",
       "    }\n",
       "\n",
       "    .dataframe thead th {\n",
       "        text-align: right;\n",
       "    }\n",
       "</style>\n",
       "<table border=\"1\" class=\"dataframe\">\n",
       "  <thead>\n",
       "    <tr style=\"text-align: right;\">\n",
       "      <th></th>\n",
       "      <th>personLabel</th>\n",
       "      <th>aliasLabel</th>\n",
       "      <th>Predictions</th>\n",
       "    </tr>\n",
       "  </thead>\n",
       "  <tbody>\n",
       "    <tr>\n",
       "      <th>0</th>\n",
       "      <td>George Washington</td>\n",
       "      <td>American Fabius</td>\n",
       "      <td>True</td>\n",
       "    </tr>\n",
       "    <tr>\n",
       "      <th>1</th>\n",
       "      <td>Barack Obama</td>\n",
       "      <td>President Barack Obama</td>\n",
       "      <td>True</td>\n",
       "    </tr>\n",
       "    <tr>\n",
       "      <th>2</th>\n",
       "      <td>Barack Obama</td>\n",
       "      <td>BHO</td>\n",
       "      <td>False</td>\n",
       "    </tr>\n",
       "    <tr>\n",
       "      <th>3</th>\n",
       "      <td>Barack Obama</td>\n",
       "      <td>Barack H. Obama</td>\n",
       "      <td>True</td>\n",
       "    </tr>\n",
       "    <tr>\n",
       "      <th>4</th>\n",
       "      <td>Mustafa Kemal Atatürk</td>\n",
       "      <td>Mustafa Kemal Paşa</td>\n",
       "      <td>True</td>\n",
       "    </tr>\n",
       "    <tr>\n",
       "      <th>...</th>\n",
       "      <td>...</td>\n",
       "      <td>...</td>\n",
       "      <td>...</td>\n",
       "    </tr>\n",
       "    <tr>\n",
       "      <th>11085</th>\n",
       "      <td>Gumersindo de Azcárate</td>\n",
       "      <td>Gumersindo José de Azcárate Menéndez</td>\n",
       "      <td>True</td>\n",
       "    </tr>\n",
       "    <tr>\n",
       "      <th>11086</th>\n",
       "      <td>Joan Rebull Torroja</td>\n",
       "      <td>Joan Rebull i Torroja</td>\n",
       "      <td>True</td>\n",
       "    </tr>\n",
       "    <tr>\n",
       "      <th>11087</th>\n",
       "      <td>Henry M. Teller</td>\n",
       "      <td>Henry Teller</td>\n",
       "      <td>True</td>\n",
       "    </tr>\n",
       "    <tr>\n",
       "      <th>11088</th>\n",
       "      <td>Thomas Starr King</td>\n",
       "      <td>Starr King</td>\n",
       "      <td>True</td>\n",
       "    </tr>\n",
       "    <tr>\n",
       "      <th>11089</th>\n",
       "      <td>Hamadoun Touré</td>\n",
       "      <td>Hamadoun Toure</td>\n",
       "      <td>True</td>\n",
       "    </tr>\n",
       "  </tbody>\n",
       "</table>\n",
       "<p>11090 rows × 3 columns</p>\n",
       "</div>"
      ],
      "text/plain": [
       "                  personLabel                            aliasLabel  \\\n",
       "0           George Washington                       American Fabius   \n",
       "1                Barack Obama                President Barack Obama   \n",
       "2                Barack Obama                                   BHO   \n",
       "3                Barack Obama                       Barack H. Obama   \n",
       "4       Mustafa Kemal Atatürk                    Mustafa Kemal Paşa   \n",
       "...                       ...                                   ...   \n",
       "11085  Gumersindo de Azcárate  Gumersindo José de Azcárate Menéndez   \n",
       "11086     Joan Rebull Torroja                 Joan Rebull i Torroja   \n",
       "11087         Henry M. Teller                          Henry Teller   \n",
       "11088       Thomas Starr King                            Starr King   \n",
       "11089          Hamadoun Touré                        Hamadoun Toure   \n",
       "\n",
       "       Predictions  \n",
       "0             True  \n",
       "1             True  \n",
       "2            False  \n",
       "3             True  \n",
       "4             True  \n",
       "...            ...  \n",
       "11085         True  \n",
       "11086         True  \n",
       "11087         True  \n",
       "11088         True  \n",
       "11089         True  \n",
       "\n",
       "[11090 rows x 3 columns]"
      ]
     },
     "execution_count": 7,
     "metadata": {},
     "output_type": "execute_result"
    }
   ],
   "source": [
    "test_df"
   ]
  },
  {
   "cell_type": "code",
   "execution_count": null,
   "metadata": {},
   "outputs": [],
   "source": []
  },
  {
   "cell_type": "code",
   "execution_count": null,
   "metadata": {},
   "outputs": [],
   "source": []
  },
  {
   "cell_type": "code",
   "execution_count": null,
   "metadata": {},
   "outputs": [],
   "source": []
  },
  {
   "cell_type": "code",
   "execution_count": 8,
   "metadata": {},
   "outputs": [
    {
     "ename": "NameError",
     "evalue": "name 'Counter' is not defined",
     "output_type": "error",
     "traceback": [
      "\u001b[1;31m---------------------------------------------------------------------------\u001b[0m",
      "\u001b[1;31mNameError\u001b[0m                                 Traceback (most recent call last)",
      "\u001b[1;32mc:\\Users\\JaeHoBahng\\Desktop\\2023_Fall\\DSAN_5400_ComputationalLingAdvPython\\assignment4\\assignment4\\matcher\\matcher\\test.ipynb Cell 12\u001b[0m line \u001b[0;36m1\n\u001b[1;32m----> <a href='vscode-notebook-cell:/c%3A/Users/JaeHoBahng/Desktop/2023_Fall/DSAN_5400_ComputationalLingAdvPython/assignment4/assignment4/matcher/matcher/test.ipynb#X14sZmlsZQ%3D%3D?line=0'>1</a>\u001b[0m Counter(results)\n\u001b[0;32m      <a href='vscode-notebook-cell:/c%3A/Users/JaeHoBahng/Desktop/2023_Fall/DSAN_5400_ComputationalLingAdvPython/assignment4/assignment4/matcher/matcher/test.ipynb#X14sZmlsZQ%3D%3D?line=1'>2</a>\u001b[0m evaluate(results,\u001b[39m'\u001b[39m\u001b[39mrecall\u001b[39m\u001b[39m'\u001b[39m)\n",
      "\u001b[1;31mNameError\u001b[0m: name 'Counter' is not defined"
     ]
    }
   ],
   "source": [
    "Counter(results)\n",
    "evaluate(results,'recall')"
   ]
  },
  {
   "cell_type": "code",
   "execution_count": null,
   "metadata": {},
   "outputs": [],
   "source": []
  },
  {
   "cell_type": "code",
   "execution_count": null,
   "metadata": {},
   "outputs": [],
   "source": []
  },
  {
   "cell_type": "code",
   "execution_count": null,
   "metadata": {},
   "outputs": [],
   "source": []
  },
  {
   "cell_type": "code",
   "execution_count": null,
   "metadata": {},
   "outputs": [],
   "source": []
  },
  {
   "cell_type": "code",
   "execution_count": 9,
   "metadata": {},
   "outputs": [],
   "source": [
    "from sklearn.metrics import precision_score, recall_score, f1_score\n",
    "\n",
    "def evaluate(pred,type):\n",
    "    actual = [True] * len(pred)\n",
    "    if type == 'precision':\n",
    "        precision = precision_score(actual, pred)\n",
    "        return precision\n",
    "    elif type == 'recall':\n",
    "        recall = recall_score(actual, pred)\n",
    "        return recall\n",
    "    elif type == 'f1':\n",
    "        f1 = f1_score(actual,pred)\n",
    "        return f1\n",
    "    else:\n",
    "        print(\"Insert from following choices['precision', 'recall', 'f1']\")        \n"
   ]
  },
  {
   "cell_type": "code",
   "execution_count": 10,
   "metadata": {},
   "outputs": [],
   "source": [
    "import abc\n",
    "import csv\n",
    "import collections.abc\n",
    "import dataclasses\n",
    "from matcher.name_matcher import NameMatchScorer\n",
    "from matcher.eval.eval import evaluate\n",
    "from matcher.name_matcher import Jaccard\n",
    "from matcher.name_matcher import Exact\n",
    "from matcher.name_matcher import Leven\n",
    "\n",
    "\n",
    "@dataclasses.dataclass\n",
    "class Comparison:\n",
    "    \"\"\"Class representing two names and their similarity\"\"\"\n",
    "    name1: str\n",
    "    name2: str\n",
    "    score: float = 0.0\n",
    "\n",
    "class DocIterator(abc.ABC, collections.abc.Iterator):\n",
    "    def __str__(self):\n",
    "        return self.__class__.__name__\n",
    "\n",
    "class TsvIterator(DocIterator):\n",
    "    \"\"\"Iterator to iterate over tsv-formatted documents\"\"\"\n",
    "    def __init__(self, input_path, output_path, method, threshold):\n",
    "        self.output_path = output_path\n",
    "        self.input_path = input_path\n",
    "        self.method = method\n",
    "        self.threshold = threshold\n",
    "\n",
    "        self.fp = open(self.input_path,encoding='utf-8')\n",
    "        self.reader = csv.reader(self.fp, delimiter='\\t')\n",
    "        next(self.reader) # skip first row\n",
    "        self.output_file = open(self.output_path, 'w', newline='',encoding='utf-8')\n",
    "\n",
    "    def __iter__(self):\n",
    "        return self\n",
    "    \n",
    "    def __next__(self):\n",
    "        try:\n",
    "            row = next(self.reader)\n",
    "            comparison = eval(f\"Comparison(row[0], row[1], {self.method}(row[0], row[1], {self.threshold}).score())\")\n",
    "            # comparison = Comparison(row[0], row[1], Jaccard(row[0], row[1], 0.5).score())\n",
    "            self.write_comparison_to_output(comparison)\n",
    "            # return Comparison(row[0], row[1], NameMatchScorer(row[0], row[1]))\n",
    "            return comparison\n",
    "        except StopIteration:\n",
    "            self.fp.close()\n",
    "            self.output_file.close()\n",
    "            raise StopIteration\n",
    "    # def write_comparison_to_output(self, comparison):\n",
    "    #     with open(self.output_path, 'a', newline='') as output_file:\n",
    "    #         writer = csv.writer(output_file, delimiter='\\t')\n",
    "    #         writer.writerow([comparison.name1, comparison.name2, comparison.score])\n",
    "    \n",
    "    def write_comparison_to_output(self, comparison):\n",
    "        writer = csv.writer(self.output_file, delimiter='\\t')\n",
    "        writer.writerow([comparison.name1, comparison.name2, comparison.score])"
   ]
  },
  {
   "cell_type": "code",
   "execution_count": 11,
   "metadata": {},
   "outputs": [],
   "source": [
    "input_file_path = '../data/names.tsv'  # Replace with the path to your input TSV file\n",
    "output_file_path = '../data/output_test.tsv'  # Replace with the desired output file path\n",
    "method = \"Leven\"\n",
    "threshold = 0.5\n",
    "\n",
    "tsv_iterator = TsvIterator(input_file_path, output_file_path,method, threshold)\n",
    "\n",
    "for comparison in tsv_iterator:\n",
    "    pass\n",
    "    # pass  # Iterate through the file, and Comparison objects will be written to the output file\n"
   ]
  },
  {
   "cell_type": "code",
   "execution_count": 12,
   "metadata": {},
   "outputs": [
    {
     "name": "stdout",
     "output_type": "stream",
     "text": [
      "(True, 0.6666666666666666)\n"
     ]
    }
   ],
   "source": [
    "from matcher.name_matcher import Jaccard\n",
    "\n",
    "# Define a string containing the expression you want to evaluate\n",
    "expression = \"Jaccard('Alice', 'Alises', 0.5).score()\"\n",
    "\n",
    "# Use the eval() function to evaluate the expression and store the result in a variable\n",
    "result = eval(expression)\n",
    "\n",
    "print(result)  # This will print the result of the expression\n"
   ]
  },
  {
   "cell_type": "code",
   "execution_count": 13,
   "metadata": {},
   "outputs": [],
   "source": [
    "from sklearn.metrics import precision_score, recall_score, f1_score\n",
    "\n",
    "def evaluate(pred,type):\n",
    "    actual = [True] * len(pred)\n",
    "    if type == 'precision':\n",
    "        precision = precision_score(actual, pred)\n",
    "        return precision\n",
    "    elif type == 'recall':\n",
    "        recall = recall_score(actual, pred)\n",
    "        return recall\n",
    "    elif type == 'f1':\n",
    "        f1 = f1_score(actual,pred)\n",
    "        return f1\n",
    "    else:\n",
    "        print(\"Insert from following choices['precision', 'recall', 'f1']\")  "
   ]
  },
  {
   "cell_type": "code",
   "execution_count": 14,
   "metadata": {},
   "outputs": [
    {
     "ename": "NameError",
     "evalue": "name 'df' is not defined",
     "output_type": "error",
     "traceback": [
      "\u001b[1;31m---------------------------------------------------------------------------\u001b[0m",
      "\u001b[1;31mNameError\u001b[0m                                 Traceback (most recent call last)",
      "\u001b[1;32mc:\\Users\\JaeHoBahng\\Desktop\\2023_Fall\\DSAN_5400_ComputationalLingAdvPython\\assignment4\\assignment4\\matcher\\matcher\\test.ipynb Cell 22\u001b[0m line \u001b[0;36m1\n\u001b[1;32m----> <a href='vscode-notebook-cell:/c%3A/Users/JaeHoBahng/Desktop/2023_Fall/DSAN_5400_ComputationalLingAdvPython/assignment4/assignment4/matcher/matcher/test.ipynb#X30sZmlsZQ%3D%3D?line=0'>1</a>\u001b[0m eval_score \u001b[39m=\u001b[39m evaluate(df\u001b[39m.\u001b[39mPrediction,\u001b[39m'\u001b[39m\u001b[39mf1\u001b[39m\u001b[39m'\u001b[39m)\n\u001b[0;32m      <a href='vscode-notebook-cell:/c%3A/Users/JaeHoBahng/Desktop/2023_Fall/DSAN_5400_ComputationalLingAdvPython/assignment4/assignment4/matcher/matcher/test.ipynb#X30sZmlsZQ%3D%3D?line=1'>2</a>\u001b[0m \u001b[39mprint\u001b[39m(\u001b[39m'\u001b[39m\u001b[39mf1\u001b[39m\u001b[39m'\u001b[39m, \u001b[39m'\u001b[39m\u001b[39m=\u001b[39m\u001b[39m'\u001b[39m, eval_score)\n",
      "\u001b[1;31mNameError\u001b[0m: name 'df' is not defined"
     ]
    }
   ],
   "source": [
    "eval_score = evaluate(df.Prediction,'f1')\n",
    "print('f1', '=', eval_score)"
   ]
  },
  {
   "cell_type": "code",
   "execution_count": 15,
   "metadata": {},
   "outputs": [],
   "source": [
    "from sklearn.metrics import precision_score"
   ]
  },
  {
   "cell_type": "code",
   "execution_count": 16,
   "metadata": {},
   "outputs": [],
   "source": [
    "actual = [0,1,1,1,0,1,1,0]\n",
    "pred = [0.1,0.5,0.5,0.7,0.8,1,0,0.4]"
   ]
  },
  {
   "cell_type": "code",
   "execution_count": 17,
   "metadata": {},
   "outputs": [],
   "source": [
    "from sklearn.metrics import precision_recall_curve\n",
    "import matplotlib.pyplot as plt\n",
    "import numpy as np\n",
    "\n",
    "thresholds = np.linspace(0, 1, 1000)  # Adjust the number of points as needed\n",
    "precisions, recalls, thresholds = precision_recall_curve(actual, pred)\n"
   ]
  },
  {
   "cell_type": "code",
   "execution_count": 18,
   "metadata": {},
   "outputs": [
    {
     "data": {
      "text/plain": [
       "array([0.625     , 0.57142857, 0.66666667, 0.8       , 0.66666667,\n",
       "       0.5       , 1.        , 1.        ])"
      ]
     },
     "execution_count": 18,
     "metadata": {},
     "output_type": "execute_result"
    }
   ],
   "source": [
    "precisions"
   ]
  },
  {
   "cell_type": "code",
   "execution_count": 19,
   "metadata": {},
   "outputs": [
    {
     "data": {
      "text/plain": [
       "array([0. , 0.1, 0.4, 0.5, 0.7, 0.8, 1. ])"
      ]
     },
     "execution_count": 19,
     "metadata": {},
     "output_type": "execute_result"
    }
   ],
   "source": [
    "thresholds"
   ]
  },
  {
   "cell_type": "code",
   "execution_count": 20,
   "metadata": {},
   "outputs": [
    {
     "data": {
      "image/png": "[encoded data removed]",
      "text/plain": [
       "<Figure size 800x600 with 1 Axes>"
      ]
     },
     "metadata": {},
     "output_type": "display_data"
    },
    {
     "name": "stdout",
     "output_type": "stream",
     "text": [
      "Optimal Threshold: 0.5\n"
     ]
    }
   ],
   "source": [
    "plt.figure(figsize=(8, 6))\n",
    "plt.plot(recalls, precisions, marker='o', linestyle='--', color='b')\n",
    "plt.xlabel('Recall')\n",
    "plt.ylabel('Precision')\n",
    "plt.title('Precision-Recall Curve')\n",
    "plt.grid()\n",
    "plt.show()\n",
    "\n",
    "# Find the optimal threshold that maximizes the F1 score\n",
    "f1_scores = 2 * (precisions * recalls) / (precisions + recalls)\n",
    "optimal_threshold = thresholds[np.argmax(f1_scores)]\n",
    "print(\"Optimal Threshold:\", optimal_threshold)"
   ]
  },
  {
   "cell_type": "code",
   "execution_count": null,
   "metadata": {},
   "outputs": [],
   "source": []
  },
  {
   "cell_type": "code",
   "execution_count": null,
   "metadata": {},
   "outputs": [],
   "source": []
  },
  {
   "cell_type": "code",
   "execution_count": null,
   "metadata": {},
   "outputs": [],
   "source": []
  },
  {
   "cell_type": "code",
   "execution_count": 23,
   "metadata": {},
   "outputs": [],
   "source": [
    "from matcher.eval.eval import evaluate\n",
    "import pandas as pd\n",
    "\n",
    "df_Exact = pd.read_csv('../data/output_Exact.tsv',delimiter='\\t',header=None, names=['PersonLabel','AliasLabel','Prediction','Score'])\n",
    "df_Jaccard = pd.read_csv('../data/output_Jaccard.tsv',delimiter='\\t',header=None, names=['PersonLabel','AliasLabel','Prediction','Score'])\n",
    "df_Leven = pd.read_csv('../data/output_Leven.tsv',delimiter='\\t',header=None, names=['PersonLabel','AliasLabel','Prediction','Score'])\n",
    "df_tfidf = pd.read_csv('../data/output_tfidf.tsv',delimiter='\\t',header=None, names=['PersonLabel','AliasLabel','Prediction','Score'])"
   ]
  },
  {
   "cell_type": "code",
   "execution_count": 44,
   "metadata": {},
   "outputs": [
    {
     "data": {
      "text/plain": [
       "0.0"
      ]
     },
     "execution_count": 44,
     "metadata": {},
     "output_type": "execute_result"
    }
   ],
   "source": []
  },
  {
   "cell_type": "code",
   "execution_count": 36,
   "metadata": {},
   "outputs": [],
   "source": [
    "accuracy = []\n",
    "\n",
    "for i in thresholds:\n",
    "    a = [1 if x > i else 0 for x in df_Leven.Score]\n",
    "    b = len(df_Leven.Score)\n",
    "    acc = sum(a)/b\n",
    "    accuracy.append(acc)\n"
   ]
  },
  {
   "cell_type": "code",
   "execution_count": 50,
   "metadata": {},
   "outputs": [
    {
     "data": {
      "image/png": "[encoded data removed]",
      "text/plain": [
       "<Figure size 640x480 with 1 Axes>"
      ]
     },
     "metadata": {},
     "output_type": "display_data"
    }
   ],
   "source": [
    "from sklearn.metrics import precision_recall_curve, f1_score\n",
    "import numpy as np\n",
    "import matplotlib.pyplot as plt\n",
    "\n",
    "precision, recall, thresholds = precision_recall_curve([True] * len(df_Jaccard.Score), df_Jaccard.Score)\n",
    "f1_scores = 2 * (precision * recall) / (precision + recall)\n",
    "\n",
    "optimal_threshold = thresholds[np.argmax(f1_scores)]\n",
    "optimal_threshold\n",
    "\n",
    "plt.plot(thresholds, precision[:-1], label='Precision')\n",
    "plt.plot(thresholds, recall[:-1], label='Recall')\n",
    "plt.plot(thresholds, f1_scores[:-1], label='F1-Score')\n",
    "plt.xlabel('Threshold')\n",
    "plt.legend()\n",
    "plt.title('Jaccard Precision-Recall Graph')\n",
    "plt.savefig('../images/Jaccard_Graph.png')\n",
    "plt.show()"
   ]
  },
  {
   "cell_type": "code",
   "execution_count": 49,
   "metadata": {},
   "outputs": [
    {
     "data": {
      "image/png": "[encoded data removed]",
      "text/plain": [
       "<Figure size 640x480 with 1 Axes>"
      ]
     },
     "metadata": {},
     "output_type": "display_data"
    }
   ],
   "source": [
    "from sklearn.metrics import precision_recall_curve, f1_score\n",
    "import numpy as np\n",
    "import matplotlib.pyplot as plt\n",
    "\n",
    "precision, recall, thresholds = precision_recall_curve([True] * len(df_Leven.Score), df_Leven.Score)\n",
    "f1_scores = 2 * (precision * recall) / (precision + recall)\n",
    "\n",
    "optimal_threshold = thresholds[np.argmax(f1_scores)]\n",
    "optimal_threshold\n",
    "\n",
    "plt.plot(thresholds, precision[:-1], label='Precision')\n",
    "plt.plot(thresholds, recall[:-1], label='Recall')\n",
    "plt.plot(thresholds, f1_scores[:-1], label='F1-Score')\n",
    "plt.xlabel('Threshold')\n",
    "plt.legend()\n",
    "plt.title('Leven Precision-Recall Graph')\n",
    "plt.savefig('../images/Leven_Graph.png')\n",
    "plt.show()"
   ]
  },
  {
   "cell_type": "code",
   "execution_count": null,
   "metadata": {},
   "outputs": [],
   "source": []
  },
  {
   "cell_type": "code",
   "execution_count": null,
   "metadata": {},
   "outputs": [],
   "source": []
  },
  {
   "cell_type": "code",
   "execution_count": null,
   "metadata": {},
   "outputs": [],
   "source": []
  },
  {
   "cell_type": "code",
   "execution_count": null,
   "metadata": {},
   "outputs": [],
   "source": [
    "import multiprocessing"
   ]
  },
  {
   "cell_type": "code",
   "execution_count": null,
   "metadata": {},
   "outputs": [
    {
     "ename": "SyntaxError",
     "evalue": "incomplete input (1896142869.py, line 2)",
     "output_type": "error",
     "traceback": [
      "\u001b[1;36m  Cell \u001b[1;32mIn[52], line 2\u001b[1;36m\u001b[0m\n\u001b[1;33m    # Your code here\u001b[0m\n\u001b[1;37m                    ^\u001b[0m\n\u001b[1;31mSyntaxError\u001b[0m\u001b[1;31m:\u001b[0m incomplete input\n"
     ]
    }
   ],
   "source": [
    "def my_function(arg):\n",
    "    # Your code here"
   ]
  },
  {
   "cell_type": "code",
   "execution_count": null,
   "metadata": {},
   "outputs": [],
   "source": [
    "num_processes = multiprocessing.cpu_count()  # Use the number of CPU cores\n",
    "pool = multiprocessing.Pool(processes=num_processes)"
   ]
  },
  {
   "cell_type": "code",
   "execution_count": null,
   "metadata": {},
   "outputs": [],
   "source": [
    "input_data = [arg1, arg2, arg3, ...]  # List of input arguments\n",
    "results = pool.map(my_function, input_data)"
   ]
  },
  {
   "cell_type": "code",
   "execution_count": null,
   "metadata": {},
   "outputs": [],
   "source": [
    "pool.close()\n",
    "pool.join()"
   ]
  },
  {
   "cell_type": "code",
   "execution_count": null,
   "metadata": {},
   "outputs": [],
   "source": [
    "import multiprocessing\n",
    "\n",
    "def square(x):\n",
    "    return x * x\n",
    "\n",
    "if __name__ == '__main__':\n",
    "    data = [1, 2, 3, 4, 5, 6, 7, 8, 9, 10]\n",
    "\n",
    "    # Create a pool of worker processes\n",
    "    num_processes = multiprocessing.cpu_count()\n",
    "    pool = multiprocessing.Pool(processes=num_processes)\n",
    "\n",
    "    # Use the pool to parallelize the 'square' function\n",
    "    results = pool.map(square, data)\n",
    "\n",
    "    # Close and join the pool\n",
    "    pool.close()\n",
    "    pool.join()\n",
    "\n",
    "    print(results)"
   ]
  },
  {
   "cell_type": "code",
   "execution_count": null,
   "metadata": {},
   "outputs": [],
   "source": []
  },
  {
   "cell_type": "code",
   "execution_count": null,
   "metadata": {},
   "outputs": [],
   "source": []
  },
  {
   "cell_type": "code",
   "execution_count": null,
   "metadata": {},
   "outputs": [],
   "source": []
  },
  {
   "cell_type": "code",
   "execution_count": null,
   "metadata": {},
   "outputs": [],
   "source": []
  },
  {
   "cell_type": "code",
   "execution_count": 6,
   "metadata": {},
   "outputs": [
    {
     "name": "stdout",
     "output_type": "stream",
     "text": [
      "Similarity score: 0.6830147205537874\n"
     ]
    }
   ],
   "source": [
    "import spacy\n",
    "\n",
    "# Load the spaCy model\n",
    "nlp = spacy.load(\"en_core_web_sm\")\n",
    "\n",
    "# Example strings\n",
    "string1 = \"John Doe\"\n",
    "string2 = \"Jaeho Doeng\"\n",
    "\n",
    "# Process the strings\n",
    "doc1 = nlp(string1)\n",
    "doc2 = nlp(string2)\n",
    "\n",
    "# Calculate document vectors\n",
    "vec1 = doc1.vector\n",
    "vec2 = doc2.vector\n",
    "\n",
    "# Calculate cosine similarity manually\n",
    "def cosine_similarity(vec1, vec2):\n",
    "    dot_product = sum(a * b for a, b in zip(vec1, vec2))\n",
    "    magnitude1 = sum(a ** 2 for a in vec1) ** 0.5\n",
    "    magnitude2 = sum(b ** 2 for b in vec2) ** 0.5\n",
    "    similarity = dot_product / (magnitude1 * magnitude2)\n",
    "    return similarity\n",
    "\n",
    "similarity_score = cosine_similarity(vec1, vec2)\n",
    "print(\"Similarity score:\", similarity_score)\n"
   ]
  },
  {
   "cell_type": "code",
   "execution_count": 8,
   "metadata": {},
   "outputs": [
    {
     "data": {
      "text/plain": [
       "array([-4.2457116e-01, -5.1015419e-01, -1.9615239e-01,  6.1065030e-01,\n",
       "        8.0777824e-02, -1.8825516e-02, -6.0456097e-02,  1.1843672e+00,\n",
       "        2.4415731e-01, -3.7129156e-02,  2.3059678e+00,  5.8923709e-01,\n",
       "       -3.4078625e-01,  1.2316513e-01, -1.1349053e+00, -3.4910718e-01,\n",
       "       -2.2721264e-01, -2.7167666e-01,  4.1193312e-01, -6.8638325e-02,\n",
       "       -3.0019277e-01,  7.9361781e-02, -2.8475600e-01,  3.8703859e-02,\n",
       "        7.5028241e-02,  1.0045658e+00,  1.1216756e+00,  2.1893129e-01,\n",
       "       -6.8971872e-01,  1.4098338e+00, -4.4243482e-01, -4.4892266e-01,\n",
       "        7.1432465e-01,  6.0206246e-01, -7.5819570e-01, -9.7218019e-01,\n",
       "        7.7217489e-01,  2.7936715e-01,  6.8004131e-02, -9.5668417e-01,\n",
       "       -1.2361677e+00,  4.6961039e-01, -9.1357851e-01,  2.0757923e-01,\n",
       "       -3.5416868e-01, -7.5872600e-01, -5.8956075e-01,  3.4505212e-01,\n",
       "        4.4266695e-01,  1.0861688e+00,  4.2243135e-01,  1.0160159e+00,\n",
       "        8.2601798e-01, -6.0714382e-01, -2.5795186e-01, -4.8209947e-01,\n",
       "        7.9101348e-01, -3.1713051e-01,  5.0293922e-01,  8.1176835e-01,\n",
       "       -7.1669865e-01, -1.3908848e-01, -6.9338465e-01, -1.1408360e+00,\n",
       "       -4.1477948e-02,  4.0541333e-01, -9.5235482e-02,  9.2871869e-01,\n",
       "        1.3009459e-03,  1.4696330e-02,  5.9893256e-01,  5.4557651e-02,\n",
       "        8.8945180e-01, -5.3444254e-01, -1.4752638e-01, -6.2887192e-02,\n",
       "       -4.8400575e-01, -8.3083880e-01, -8.6198843e-01, -9.0259111e-01,\n",
       "       -3.9719331e-01, -4.7107041e-03, -8.9659864e-01, -5.3555489e-01,\n",
       "        7.9903372e-02,  1.1647478e-01,  8.5253739e-01,  7.8623742e-01,\n",
       "       -1.2402456e+00,  1.5733302e-01, -6.9201362e-01, -9.6079576e-01,\n",
       "        2.1714756e+00,  1.5910447e-02,  9.8198652e-04,  9.4320375e-01],\n",
       "      dtype=float32)"
      ]
     },
     "execution_count": 8,
     "metadata": {},
     "output_type": "execute_result"
    }
   ],
   "source": [
    "doc1.vector"
   ]
  },
  {
   "cell_type": "code",
   "execution_count": 55,
   "metadata": {},
   "outputs": [
    {
     "name": "stdout",
     "output_type": "stream",
     "text": [
      "Requirement already satisfied: spacy in c:\\users\\jaehobahng\\anaconda3\\envs\\dsan5400\\lib\\site-packages (3.6.1)\n",
      "Requirement already satisfied: spacy-legacy<3.1.0,>=3.0.11 in c:\\users\\jaehobahng\\anaconda3\\envs\\dsan5400\\lib\\site-packages (from spacy) (3.0.12)\n",
      "Requirement already satisfied: spacy-loggers<2.0.0,>=1.0.0 in c:\\users\\jaehobahng\\anaconda3\\envs\\dsan5400\\lib\\site-packages (from spacy) (1.0.4)\n",
      "Requirement already satisfied: murmurhash<1.1.0,>=0.28.0 in c:\\users\\jaehobahng\\anaconda3\\envs\\dsan5400\\lib\\site-packages (from spacy) (1.0.9)\n",
      "Requirement already satisfied: cymem<2.1.0,>=2.0.2 in c:\\users\\jaehobahng\\anaconda3\\envs\\dsan5400\\lib\\site-packages (from spacy) (2.0.7)\n",
      "Requirement already satisfied: preshed<3.1.0,>=3.0.2 in c:\\users\\jaehobahng\\anaconda3\\envs\\dsan5400\\lib\\site-packages (from spacy) (3.0.8)\n",
      "Requirement already satisfied: thinc<8.2.0,>=8.1.8 in c:\\users\\jaehobahng\\anaconda3\\envs\\dsan5400\\lib\\site-packages (from spacy) (8.1.12)\n",
      "Requirement already satisfied: wasabi<1.2.0,>=0.9.1 in c:\\users\\jaehobahng\\anaconda3\\envs\\dsan5400\\lib\\site-packages (from spacy) (1.1.2)\n",
      "Requirement already satisfied: srsly<3.0.0,>=2.4.3 in c:\\users\\jaehobahng\\anaconda3\\envs\\dsan5400\\lib\\site-packages (from spacy) (2.4.7)\n",
      "Requirement already satisfied: catalogue<2.1.0,>=2.0.6 in c:\\users\\jaehobahng\\anaconda3\\envs\\dsan5400\\lib\\site-packages (from spacy) (2.0.9)\n",
      "Requirement already satisfied: typer<0.10.0,>=0.3.0 in c:\\users\\jaehobahng\\anaconda3\\envs\\dsan5400\\lib\\site-packages (from spacy) (0.9.0)\n",
      "Requirement already satisfied: pathy>=0.10.0 in c:\\users\\jaehobahng\\anaconda3\\envs\\dsan5400\\lib\\site-packages (from spacy) (0.10.2)\n",
      "Requirement already satisfied: smart-open<7.0.0,>=5.2.1 in c:\\users\\jaehobahng\\anaconda3\\envs\\dsan5400\\lib\\site-packages (from spacy) (5.2.1)\n",
      "Requirement already satisfied: tqdm<5.0.0,>=4.38.0 in c:\\users\\jaehobahng\\anaconda3\\envs\\dsan5400\\lib\\site-packages (from spacy) (4.66.1)\n",
      "Requirement already satisfied: numpy>=1.15.0 in c:\\users\\jaehobahng\\anaconda3\\envs\\dsan5400\\lib\\site-packages (from spacy) (1.25.2)\n",
      "Requirement already satisfied: requests<3.0.0,>=2.13.0 in c:\\users\\jaehobahng\\anaconda3\\envs\\dsan5400\\lib\\site-packages (from spacy) (2.31.0)\n",
      "Requirement already satisfied: pydantic!=1.8,!=1.8.1,<3.0.0,>=1.7.4 in c:\\users\\jaehobahng\\anaconda3\\envs\\dsan5400\\lib\\site-packages (from spacy) (2.3.0)\n",
      "Requirement already satisfied: jinja2 in c:\\users\\jaehobahng\\anaconda3\\envs\\dsan5400\\lib\\site-packages (from spacy) (3.1.2)\n",
      "Requirement already satisfied: setuptools in c:\\users\\jaehobahng\\anaconda3\\envs\\dsan5400\\lib\\site-packages (from spacy) (68.1.2)\n",
      "Requirement already satisfied: packaging>=20.0 in c:\\users\\jaehobahng\\anaconda3\\envs\\dsan5400\\lib\\site-packages (from spacy) (23.1)\n",
      "Requirement already satisfied: langcodes<4.0.0,>=3.2.0 in c:\\users\\jaehobahng\\anaconda3\\envs\\dsan5400\\lib\\site-packages (from spacy) (3.3.0)\n",
      "Requirement already satisfied: annotated-types>=0.4.0 in c:\\users\\jaehobahng\\anaconda3\\envs\\dsan5400\\lib\\site-packages (from pydantic!=1.8,!=1.8.1,<3.0.0,>=1.7.4->spacy) (0.5.0)\n",
      "Requirement already satisfied: pydantic-core==2.6.3 in c:\\users\\jaehobahng\\anaconda3\\envs\\dsan5400\\lib\\site-packages (from pydantic!=1.8,!=1.8.1,<3.0.0,>=1.7.4->spacy) (2.6.3)\n",
      "Requirement already satisfied: typing-extensions>=4.6.1 in c:\\users\\jaehobahng\\anaconda3\\envs\\dsan5400\\lib\\site-packages (from pydantic!=1.8,!=1.8.1,<3.0.0,>=1.7.4->spacy) (4.7.1)\n",
      "Requirement already satisfied: charset-normalizer<4,>=2 in c:\\users\\jaehobahng\\anaconda3\\envs\\dsan5400\\lib\\site-packages (from requests<3.0.0,>=2.13.0->spacy) (3.2.0)\n",
      "Requirement already satisfied: idna<4,>=2.5 in c:\\users\\jaehobahng\\anaconda3\\envs\\dsan5400\\lib\\site-packages (from requests<3.0.0,>=2.13.0->spacy) (3.4)\n",
      "Requirement already satisfied: urllib3<3,>=1.21.1 in c:\\users\\jaehobahng\\anaconda3\\envs\\dsan5400\\lib\\site-packages (from requests<3.0.0,>=2.13.0->spacy) (2.0.4)\n",
      "Requirement already satisfied: certifi>=2017.4.17 in c:\\users\\jaehobahng\\anaconda3\\envs\\dsan5400\\lib\\site-packages (from requests<3.0.0,>=2.13.0->spacy) (2023.7.22)\n",
      "Requirement already satisfied: blis<0.8.0,>=0.7.8 in c:\\users\\jaehobahng\\anaconda3\\envs\\dsan5400\\lib\\site-packages (from thinc<8.2.0,>=8.1.8->spacy) (0.7.10)\n",
      "Requirement already satisfied: confection<1.0.0,>=0.0.1 in c:\\users\\jaehobahng\\anaconda3\\envs\\dsan5400\\lib\\site-packages (from thinc<8.2.0,>=8.1.8->spacy) (0.1.1)\n",
      "Requirement already satisfied: colorama in c:\\users\\jaehobahng\\appdata\\roaming\\python\\python311\\site-packages (from tqdm<5.0.0,>=4.38.0->spacy) (0.4.6)\n",
      "Requirement already satisfied: click<9.0.0,>=7.1.1 in c:\\users\\jaehobahng\\anaconda3\\envs\\dsan5400\\lib\\site-packages (from typer<0.10.0,>=0.3.0->spacy) (8.1.7)\n",
      "Requirement already satisfied: MarkupSafe>=2.0 in c:\\users\\jaehobahng\\anaconda3\\envs\\dsan5400\\lib\\site-packages (from jinja2->spacy) (2.1.3)\n",
      "Note: you may need to restart the kernel to use updated packages.\n"
     ]
    }
   ],
   "source": [
    "pip install spacy\n"
   ]
  },
  {
   "cell_type": "code",
   "execution_count": 1,
   "metadata": {},
   "outputs": [
    {
     "ename": "SyntaxError",
     "evalue": "invalid syntax (581980377.py, line 1)",
     "output_type": "error",
     "traceback": [
      "\u001b[1;36m  Cell \u001b[1;32mIn[1], line 1\u001b[1;36m\u001b[0m\n\u001b[1;33m    python -m spacy download en_core_web_sm\u001b[0m\n\u001b[1;37m              ^\u001b[0m\n\u001b[1;31mSyntaxError\u001b[0m\u001b[1;31m:\u001b[0m invalid syntax\n"
     ]
    }
   ],
   "source": [
    "python -m spacy download en_core_web_sm"
   ]
  },
  {
   "cell_type": "code",
   "execution_count": 3,
   "metadata": {},
   "outputs": [
    {
     "ename": "SyntaxError",
     "evalue": "invalid syntax (1800150210.py, line 1)",
     "output_type": "error",
     "traceback": [
      "\u001b[1;36m  Cell \u001b[1;32mIn[3], line 1\u001b[1;36m\u001b[0m\n\u001b[1;33m    python -m spacy uninstall en_core_web_sm\u001b[0m\n\u001b[1;37m              ^\u001b[0m\n\u001b[1;31mSyntaxError\u001b[0m\u001b[1;31m:\u001b[0m invalid syntax\n"
     ]
    }
   ],
   "source": [
    "python -m spacy uninstall en_core_web_sm"
   ]
  },
  {
   "cell_type": "code",
   "execution_count": 9,
   "metadata": {},
   "outputs": [],
   "source": [
    "import multiprocessing\n",
    "\n",
    "def square(n):\n",
    "    return n * n\n",
    "\n",
    "if __name__ == \"__main__\":\n",
    "    # Define the pool of processes\n",
    "    with multiprocessing.Pool(processes=4) as pool:\n",
    "        # Map the function to multiple inputs\n",
    "        result = pool.map(square, [1, 2, 3, 4, 5])\n",
    "    \n",
    "    print(result)\n"
   ]
  },
  {
   "cell_type": "code",
   "execution_count": 1,
   "metadata": {},
   "outputs": [],
   "source": [
    "import multiprocessing\n",
    "\n",
    "def square(n):\n",
    "    return n * n\n",
    "\n",
    "if __name__ == \"__main__\":\n",
    "    numbers = [1, 2, 3, 4, 5, 6, 7, 8, 9, 10]\n",
    "\n",
    "    with multiprocessing.Pool() as pool:\n",
    "        results = pool.map(square, numbers)\n",
    "\n",
    "    print(results)\n"
   ]
  },
  {
   "cell_type": "code",
   "execution_count": null,
   "metadata": {},
   "outputs": [],
   "source": []
  },
  {
   "cell_type": "code",
   "execution_count": 18,
   "metadata": {},
   "outputs": [],
   "source": [
    "from matcher.utils.parse_tsv import TsvIterator\n",
    "from matcher.eval.eval import evaluate\n",
    "import multiprocessing"
   ]
  },
  {
   "cell_type": "code",
   "execution_count": 3,
   "metadata": {},
   "outputs": [],
   "source": [
    "tsv_iterator = TsvIterator('../data/names.tsv','../data/testtest.tsv', 'Jaccard', 0.5)"
   ]
  },
  {
   "cell_type": "code",
   "execution_count": 5,
   "metadata": {},
   "outputs": [
    {
     "ename": "ValueError",
     "evalue": "I/O operation on closed file.",
     "output_type": "error",
     "traceback": [
      "\u001b[1;31m---------------------------------------------------------------------------\u001b[0m",
      "\u001b[1;31mValueError\u001b[0m                                Traceback (most recent call last)",
      "\u001b[1;32mc:\\Users\\JaeHoBahng\\Desktop\\2023_Fall\\DSAN_5400_ComputationalLingAdvPython\\assignment4\\assignment4\\matcher\\matcher\\test.ipynb Cell 63\u001b[0m line \u001b[0;36m1\n\u001b[1;32m----> <a href='vscode-notebook-cell:/c%3A/Users/JaeHoBahng/Desktop/2023_Fall/DSAN_5400_ComputationalLingAdvPython/assignment4/assignment4/matcher/matcher/test.ipynb#Y116sZmlsZQ%3D%3D?line=0'>1</a>\u001b[0m chunk_size \u001b[39m=\u001b[39m \u001b[39mlen\u001b[39m(\u001b[39mlist\u001b[39;49m(tsv_iterator)) \u001b[39m/\u001b[39m\u001b[39m/\u001b[39m \u001b[39m20\u001b[39m\n\u001b[0;32m      <a href='vscode-notebook-cell:/c%3A/Users/JaeHoBahng/Desktop/2023_Fall/DSAN_5400_ComputationalLingAdvPython/assignment4/assignment4/matcher/matcher/test.ipynb#Y116sZmlsZQ%3D%3D?line=1'>2</a>\u001b[0m data_slices \u001b[39m=\u001b[39m [\u001b[39mlist\u001b[39m(tsv_iterator)[i:i \u001b[39m+\u001b[39m chunk_size] \u001b[39mfor\u001b[39;00m i \u001b[39min\u001b[39;00m \u001b[39mrange\u001b[39m(\u001b[39m0\u001b[39m, \u001b[39mlen\u001b[39m(\u001b[39mlist\u001b[39m(tsv_iterator)), chunk_size)]\n",
      "File \u001b[1;32mc:\\users\\jaehobahng\\desktop\\2023_fall\\dsan_5400_computationallingadvpython\\assignment4\\assignment4\\matcher\\matcher\\utils\\parse_tsv.py:42\u001b[0m, in \u001b[0;36mTsvIterator.__next__\u001b[1;34m(self)\u001b[0m\n\u001b[0;32m     40\u001b[0m \u001b[39mdef\u001b[39;00m \u001b[39m__next__\u001b[39m(\u001b[39mself\u001b[39m):\n\u001b[0;32m     41\u001b[0m     \u001b[39mtry\u001b[39;00m:\n\u001b[1;32m---> 42\u001b[0m         row \u001b[39m=\u001b[39m \u001b[39mnext\u001b[39m(\u001b[39mself\u001b[39m\u001b[39m.\u001b[39mreader)\n\u001b[0;32m     43\u001b[0m         pred, score \u001b[39m=\u001b[39m \u001b[39meval\u001b[39m(\u001b[39mf\u001b[39m\u001b[39m\"\u001b[39m\u001b[39m{\u001b[39;00m\u001b[39mself\u001b[39m\u001b[39m.\u001b[39mmethod\u001b[39m}\u001b[39;00m\u001b[39m(row[0], row[1],\u001b[39m\u001b[39m{\u001b[39;00m\u001b[39mself\u001b[39m\u001b[39m.\u001b[39mthreshold\u001b[39m}\u001b[39;00m\u001b[39m).score()\u001b[39m\u001b[39m\"\u001b[39m)\n\u001b[0;32m     44\u001b[0m         comparison \u001b[39m=\u001b[39m Comparison(row[\u001b[39m0\u001b[39m], row[\u001b[39m1\u001b[39m], pred, score)\n",
      "\u001b[1;31mValueError\u001b[0m: I/O operation on closed file."
     ]
    }
   ],
   "source": [
    "chunk_size = len(list(tsv_iterator)) // 20\n",
    "data_slices = [list(tsv_iterator)[i:i + chunk_size] for i in range(0, len(list(tsv_iterator)), chunk_size)]"
   ]
  },
  {
   "cell_type": "code",
   "execution_count": 6,
   "metadata": {},
   "outputs": [
    {
     "ename": "ValueError",
     "evalue": "I/O operation on closed file.",
     "output_type": "error",
     "traceback": [
      "\u001b[1;31m---------------------------------------------------------------------------\u001b[0m",
      "\u001b[1;31mValueError\u001b[0m                                Traceback (most recent call last)",
      "\u001b[1;32mc:\\Users\\JaeHoBahng\\Desktop\\2023_Fall\\DSAN_5400_ComputationalLingAdvPython\\assignment4\\assignment4\\matcher\\matcher\\test.ipynb Cell 64\u001b[0m line \u001b[0;36m1\n\u001b[1;32m----> <a href='vscode-notebook-cell:/c%3A/Users/JaeHoBahng/Desktop/2023_Fall/DSAN_5400_ComputationalLingAdvPython/assignment4/assignment4/matcher/matcher/test.ipynb#Y120sZmlsZQ%3D%3D?line=0'>1</a>\u001b[0m \u001b[39mlen\u001b[39m(\u001b[39mlist\u001b[39;49m(tsv_iterator)) \u001b[39m/\u001b[39m\u001b[39m/\u001b[39m \u001b[39m20\u001b[39m\n",
      "File \u001b[1;32mc:\\users\\jaehobahng\\desktop\\2023_fall\\dsan_5400_computationallingadvpython\\assignment4\\assignment4\\matcher\\matcher\\utils\\parse_tsv.py:42\u001b[0m, in \u001b[0;36mTsvIterator.__next__\u001b[1;34m(self)\u001b[0m\n\u001b[0;32m     40\u001b[0m \u001b[39mdef\u001b[39;00m \u001b[39m__next__\u001b[39m(\u001b[39mself\u001b[39m):\n\u001b[0;32m     41\u001b[0m     \u001b[39mtry\u001b[39;00m:\n\u001b[1;32m---> 42\u001b[0m         row \u001b[39m=\u001b[39m \u001b[39mnext\u001b[39m(\u001b[39mself\u001b[39m\u001b[39m.\u001b[39mreader)\n\u001b[0;32m     43\u001b[0m         pred, score \u001b[39m=\u001b[39m \u001b[39meval\u001b[39m(\u001b[39mf\u001b[39m\u001b[39m\"\u001b[39m\u001b[39m{\u001b[39;00m\u001b[39mself\u001b[39m\u001b[39m.\u001b[39mmethod\u001b[39m}\u001b[39;00m\u001b[39m(row[0], row[1],\u001b[39m\u001b[39m{\u001b[39;00m\u001b[39mself\u001b[39m\u001b[39m.\u001b[39mthreshold\u001b[39m}\u001b[39;00m\u001b[39m).score()\u001b[39m\u001b[39m\"\u001b[39m)\n\u001b[0;32m     44\u001b[0m         comparison \u001b[39m=\u001b[39m Comparison(row[\u001b[39m0\u001b[39m], row[\u001b[39m1\u001b[39m], pred, score)\n",
      "\u001b[1;31mValueError\u001b[0m: I/O operation on closed file."
     ]
    }
   ],
   "source": [
    "len(list(tsv_iterator)) // 20"
   ]
  },
  {
   "cell_type": "code",
   "execution_count": 10,
   "metadata": {},
   "outputs": [
    {
     "ename": "ValueError",
     "evalue": "I/O operation on closed file.",
     "output_type": "error",
     "traceback": [
      "\u001b[1;31m---------------------------------------------------------------------------\u001b[0m",
      "\u001b[1;31mValueError\u001b[0m                                Traceback (most recent call last)",
      "\u001b[1;32mc:\\Users\\JaeHoBahng\\Desktop\\2023_Fall\\DSAN_5400_ComputationalLingAdvPython\\assignment4\\assignment4\\matcher\\matcher\\test.ipynb Cell 65\u001b[0m line \u001b[0;36m8\n\u001b[0;32m      <a href='vscode-notebook-cell:/c%3A/Users/JaeHoBahng/Desktop/2023_Fall/DSAN_5400_ComputationalLingAdvPython/assignment4/assignment4/matcher/matcher/test.ipynb#Y121sZmlsZQ%3D%3D?line=5'>6</a>\u001b[0m \u001b[39mtry\u001b[39;00m:\n\u001b[0;32m      <a href='vscode-notebook-cell:/c%3A/Users/JaeHoBahng/Desktop/2023_Fall/DSAN_5400_ComputationalLingAdvPython/assignment4/assignment4/matcher/matcher/test.ipynb#Y121sZmlsZQ%3D%3D?line=6'>7</a>\u001b[0m     \u001b[39mfor\u001b[39;00m _ \u001b[39min\u001b[39;00m \u001b[39mrange\u001b[39m(\u001b[39m100\u001b[39m):\n\u001b[1;32m----> <a href='vscode-notebook-cell:/c%3A/Users/JaeHoBahng/Desktop/2023_Fall/DSAN_5400_ComputationalLingAdvPython/assignment4/assignment4/matcher/matcher/test.ipynb#Y121sZmlsZQ%3D%3D?line=7'>8</a>\u001b[0m         chunk\u001b[39m.\u001b[39mappend(\u001b[39mnext\u001b[39;49m(tsv_iterator))\n\u001b[0;32m      <a href='vscode-notebook-cell:/c%3A/Users/JaeHoBahng/Desktop/2023_Fall/DSAN_5400_ComputationalLingAdvPython/assignment4/assignment4/matcher/matcher/test.ipynb#Y121sZmlsZQ%3D%3D?line=8'>9</a>\u001b[0m     data_slices\u001b[39m.\u001b[39mappend(chunk)\n\u001b[0;32m     <a href='vscode-notebook-cell:/c%3A/Users/JaeHoBahng/Desktop/2023_Fall/DSAN_5400_ComputationalLingAdvPython/assignment4/assignment4/matcher/matcher/test.ipynb#Y121sZmlsZQ%3D%3D?line=9'>10</a>\u001b[0m \u001b[39mexcept\u001b[39;00m \u001b[39mStopIteration\u001b[39;00m:\n",
      "File \u001b[1;32mc:\\users\\jaehobahng\\desktop\\2023_fall\\dsan_5400_computationallingadvpython\\assignment4\\assignment4\\matcher\\matcher\\utils\\parse_tsv.py:42\u001b[0m, in \u001b[0;36mTsvIterator.__next__\u001b[1;34m(self)\u001b[0m\n\u001b[0;32m     40\u001b[0m \u001b[39mdef\u001b[39;00m \u001b[39m__next__\u001b[39m(\u001b[39mself\u001b[39m):\n\u001b[0;32m     41\u001b[0m     \u001b[39mtry\u001b[39;00m:\n\u001b[1;32m---> 42\u001b[0m         row \u001b[39m=\u001b[39m \u001b[39mnext\u001b[39m(\u001b[39mself\u001b[39m\u001b[39m.\u001b[39mreader)\n\u001b[0;32m     43\u001b[0m         pred, score \u001b[39m=\u001b[39m \u001b[39meval\u001b[39m(\u001b[39mf\u001b[39m\u001b[39m\"\u001b[39m\u001b[39m{\u001b[39;00m\u001b[39mself\u001b[39m\u001b[39m.\u001b[39mmethod\u001b[39m}\u001b[39;00m\u001b[39m(row[0], row[1],\u001b[39m\u001b[39m{\u001b[39;00m\u001b[39mself\u001b[39m\u001b[39m.\u001b[39mthreshold\u001b[39m}\u001b[39;00m\u001b[39m).score()\u001b[39m\u001b[39m\"\u001b[39m)\n\u001b[0;32m     44\u001b[0m         comparison \u001b[39m=\u001b[39m Comparison(row[\u001b[39m0\u001b[39m], row[\u001b[39m1\u001b[39m], pred, score)\n",
      "\u001b[1;31mValueError\u001b[0m: I/O operation on closed file."
     ]
    }
   ],
   "source": [
    "num_processes = 10\n",
    "\n",
    "data_slices = []\n",
    "for _ in range(num_processes):\n",
    "    chunk = []\n",
    "    try:\n",
    "        for _ in range(100):\n",
    "            chunk.append(next(tsv_iterator))\n",
    "        data_slices.append(chunk)\n",
    "    except StopIteration:\n",
    "        break"
   ]
  },
  {
   "cell_type": "code",
   "execution_count": 9,
   "metadata": {},
   "outputs": [
    {
     "ename": "TypeError",
     "evalue": "object of type 'TsvIterator' has no len()",
     "output_type": "error",
     "traceback": [
      "\u001b[1;31m---------------------------------------------------------------------------\u001b[0m",
      "\u001b[1;31mTypeError\u001b[0m                                 Traceback (most recent call last)",
      "\u001b[1;32mc:\\Users\\JaeHoBahng\\Desktop\\2023_Fall\\DSAN_5400_ComputationalLingAdvPython\\assignment4\\assignment4\\matcher\\matcher\\test.ipynb Cell 66\u001b[0m line \u001b[0;36m1\n\u001b[1;32m----> <a href='vscode-notebook-cell:/c%3A/Users/JaeHoBahng/Desktop/2023_Fall/DSAN_5400_ComputationalLingAdvPython/assignment4/assignment4/matcher/matcher/test.ipynb#Y122sZmlsZQ%3D%3D?line=0'>1</a>\u001b[0m \u001b[39mlen\u001b[39;49m(tsv_iterator)\n",
      "\u001b[1;31mTypeError\u001b[0m: object of type 'TsvIterator' has no len()"
     ]
    }
   ],
   "source": [
    "len(tsv_iterator)"
   ]
  },
  {
   "cell_type": "code",
   "execution_count": 19,
   "metadata": {},
   "outputs": [],
   "source": [
    "\n",
    "tsv_iterator = TsvIterator('../data/names.tsv','../data/testtest.tsv', 'Bonus', 0.5)\n",
    "\n",
    "def multiprocess(variable):\n",
    "    for i in variable:\n",
    "        pass\n",
    "\n",
    "# multiprocess(tsv_iterator)"
   ]
  },
  {
   "cell_type": "code",
   "execution_count": 20,
   "metadata": {},
   "outputs": [
    {
     "ename": "NameError",
     "evalue": "name 'Bonus' is not defined",
     "output_type": "error",
     "traceback": [
      "\u001b[1;31m---------------------------------------------------------------------------\u001b[0m",
      "\u001b[1;31mNameError\u001b[0m                                 Traceback (most recent call last)",
      "\u001b[1;32mc:\\Users\\JaeHoBahng\\Desktop\\2023_Fall\\DSAN_5400_ComputationalLingAdvPython\\assignment4\\assignment4\\matcher\\matcher\\test.ipynb Cell 68\u001b[0m line \u001b[0;36m1\n\u001b[1;32m----> <a href='vscode-notebook-cell:/c%3A/Users/JaeHoBahng/Desktop/2023_Fall/DSAN_5400_ComputationalLingAdvPython/assignment4/assignment4/matcher/matcher/test.ipynb#Y124sZmlsZQ%3D%3D?line=0'>1</a>\u001b[0m \u001b[39mfor\u001b[39;00m i \u001b[39min\u001b[39;00m tsv_iterator:\n\u001b[0;32m      <a href='vscode-notebook-cell:/c%3A/Users/JaeHoBahng/Desktop/2023_Fall/DSAN_5400_ComputationalLingAdvPython/assignment4/assignment4/matcher/matcher/test.ipynb#Y124sZmlsZQ%3D%3D?line=1'>2</a>\u001b[0m     \u001b[39mpass\u001b[39;00m\n",
      "File \u001b[1;32mc:\\users\\jaehobahng\\desktop\\2023_fall\\dsan_5400_computationallingadvpython\\assignment4\\assignment4\\matcher\\matcher\\utils\\parse_tsv.py:43\u001b[0m, in \u001b[0;36mTsvIterator.__next__\u001b[1;34m(self)\u001b[0m\n\u001b[0;32m     41\u001b[0m \u001b[39mtry\u001b[39;00m:\n\u001b[0;32m     42\u001b[0m     row \u001b[39m=\u001b[39m \u001b[39mnext\u001b[39m(\u001b[39mself\u001b[39m\u001b[39m.\u001b[39mreader)\n\u001b[1;32m---> 43\u001b[0m     pred, score \u001b[39m=\u001b[39m \u001b[39meval\u001b[39m(\u001b[39mf\u001b[39m\u001b[39m\"\u001b[39m\u001b[39m{\u001b[39;00m\u001b[39mself\u001b[39m\u001b[39m.\u001b[39mmethod\u001b[39m}\u001b[39;00m\u001b[39m(row[0], row[1],\u001b[39m\u001b[39m{\u001b[39;00m\u001b[39mself\u001b[39m\u001b[39m.\u001b[39mthreshold\u001b[39m}\u001b[39;00m\u001b[39m).score()\u001b[39m\u001b[39m\"\u001b[39m)\n\u001b[0;32m     44\u001b[0m     comparison \u001b[39m=\u001b[39m Comparison(row[\u001b[39m0\u001b[39m], row[\u001b[39m1\u001b[39m], pred, score)\n\u001b[0;32m     46\u001b[0m     \u001b[39mself\u001b[39m\u001b[39m.\u001b[39mwrite_comparison_to_output(comparison)\n",
      "File \u001b[1;32m<string>:1\u001b[0m\n",
      "\u001b[1;31mNameError\u001b[0m: name 'Bonus' is not defined"
     ]
    }
   ],
   "source": [
    "for i in tsv_iterator:\n",
    "    pass"
   ]
  },
  {
   "cell_type": "code",
   "execution_count": null,
   "metadata": {},
   "outputs": [],
   "source": []
  }
 ],
 "metadata": {
  "kernelspec": {
   "display_name": "DSAN5000",
   "language": "python",
   "name": "python3"
  },
  "language_info": {
   "codemirror_mode": {
    "name": "ipython",
    "version": 3
   },
   "file_extension": ".py",
   "mimetype": "text/x-python",
   "name": "python",
   "nbconvert_exporter": "python",
   "pygments_lexer": "ipython3",
   "version": "3.11.4"
  }
 },
 "nbformat": 4,
 "nbformat_minor": 2
}
